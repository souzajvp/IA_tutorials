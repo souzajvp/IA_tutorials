{
  "nbformat": 4,
  "nbformat_minor": 0,
  "metadata": {
    "colab": {
      "name": "Template regression.ipynb",
      "provenance": [],
      "authorship_tag": "ABX9TyMRXA/2I5laLVMiKxY8vzED",
      "include_colab_link": true
    },
    "kernelspec": {
      "name": "python3",
      "display_name": "Python 3"
    },
    "language_info": {
      "name": "python"
    }
  },
  "cells": [
    {
      "cell_type": "markdown",
      "metadata": {
        "id": "view-in-github",
        "colab_type": "text"
      },
      "source": [
        "<a href=\"https://colab.research.google.com/github/souzajvp/IA_tutorials/blob/main/template_methods/Template_regression.ipynb\" target=\"_parent\"><img src=\"https://colab.research.google.com/assets/colab-badge.svg\" alt=\"Open In Colab\"/></a>"
      ]
    },
    {
      "cell_type": "markdown",
      "metadata": {
        "id": "z67sO4772Irx"
      },
      "source": [
        "# Versions and packages"
      ]
    },
    {
      "cell_type": "code",
      "metadata": {
        "colab": {
          "base_uri": "https://localhost:8080/"
        },
        "id": "12rL2aaV0cMS",
        "outputId": "4652e102-e8e9-41b1-ca23-001de8ee43c1"
      },
      "source": [
        "# Python version in use\n",
        "!python --version"
      ],
      "execution_count": 1,
      "outputs": [
        {
          "output_type": "stream",
          "text": [
            "Python 3.7.10\n"
          ],
          "name": "stdout"
        }
      ]
    },
    {
      "cell_type": "code",
      "metadata": {
        "id": "mFq3e8rA03x5"
      },
      "source": [
        "# pandas is a package most used for managing and organizing data\n",
        "import pandas as pd\n",
        "# numpy is a package used for numerical operations\n",
        "import numpy as np\n",
        "# matplotlib and seaborn are packages for ploting graphs\n",
        "import matplotlib.pyplot as plt\n",
        "import seaborn as sns\n",
        "import matplotlib as mpl"
      ],
      "execution_count": 2,
      "outputs": []
    },
    {
      "cell_type": "code",
      "metadata": {
        "colab": {
          "base_uri": "https://localhost:8080/"
        },
        "id": "Qw9no6Xn0qjj",
        "outputId": "e9db522a-2717-4720-a30b-026bc08a19d4"
      },
      "source": [
        "print('The Pandas version utilized in this example is -',pd.__version__)\n",
        "print('The Matplotlib version utilized in this example is -',mpl.__version__)\n",
        "print('The Seaborn version utilized in this example is -',sns.__version__)\n",
        "print('The Numpy version utilized in this example is -',np.__version__)"
      ],
      "execution_count": 3,
      "outputs": [
        {
          "output_type": "stream",
          "text": [
            "The Pandas version utilized in this example is - 1.1.5\n",
            "The Matplotlib version utilized in this example is - 3.2.2\n",
            "The Seaborn version utilized in this example is - 0.11.1\n",
            "The Numpy version utilized in this example is - 1.19.5\n"
          ],
          "name": "stdout"
        }
      ]
    },
    {
      "cell_type": "markdown",
      "metadata": {
        "id": "TANx0wjLXZCp"
      },
      "source": [
        "# Sample data \n",
        "This dataset is originally from the National Institute of Diabetes and Digestive and Kidney Diseases. The objective of the dataset is to diagnostically predict whether or not a patient has diabetes, based on certain diagnostic measurements included in the dataset. Several constraints were placed on the selection of these instances from a larger database. In particular, all patients here are **females at least 21 years old** of Pima Indian heritage.\n",
        "\n",
        "This dataset can be found on [Kaggle](https://www.kaggle.com/uciml/pima-indians-diabetes-database)."
      ]
    },
    {
      "cell_type": "code",
      "metadata": {
        "id": "LXjqsRf-XbAP"
      },
      "source": [
        "# The dataset can be loaded directly from my github\n",
        "url = 'https://github.com/souzajvp/IA_tutorials/blob/main/diabetes_class/archive.zip?raw=true'"
      ],
      "execution_count": 4,
      "outputs": []
    },
    {
      "cell_type": "code",
      "metadata": {
        "id": "p78lcxO0wp5Q"
      },
      "source": [
        "# reading the dataset using pd.read_csv from pandas\n",
        "# it is necessary to specify the compression.\n",
        "diabetes = pd.read_csv(url, compression='zip')"
      ],
      "execution_count": 5,
      "outputs": []
    },
    {
      "cell_type": "markdown",
      "metadata": {
        "id": "llyoRTNt2lif"
      },
      "source": [
        "## Dealing with null values"
      ]
    },
    {
      "cell_type": "code",
      "metadata": {
        "id": "780zPye42sZ9"
      },
      "source": [
        "# Some variables have values set as zero which make no sense, such as insulin.\n",
        "# 0 values were replaced by Null\n",
        "diabetes[diabetes.columns[1:-1]] = diabetes[diabetes.columns[1:-1]].replace([0], [np.nan])"
      ],
      "execution_count": 6,
      "outputs": []
    },
    {
      "cell_type": "markdown",
      "metadata": {
        "id": "ppFOQ1E-3Wo7"
      },
      "source": [
        "Number of missing values for each column"
      ]
    },
    {
      "cell_type": "code",
      "metadata": {
        "colab": {
          "base_uri": "https://localhost:8080/"
        },
        "id": "XMz_4_ld3cEV",
        "outputId": "6dda1cda-d660-4bf9-b5f0-2523a8c3d40b"
      },
      "source": [
        "diabetes.isna().sum()"
      ],
      "execution_count": 7,
      "outputs": [
        {
          "output_type": "execute_result",
          "data": {
            "text/plain": [
              "Pregnancies                   0\n",
              "Glucose                       5\n",
              "BloodPressure                35\n",
              "SkinThickness               227\n",
              "Insulin                     374\n",
              "BMI                          11\n",
              "DiabetesPedigreeFunction      0\n",
              "Age                           0\n",
              "Outcome                       0\n",
              "dtype: int64"
            ]
          },
          "metadata": {
            "tags": []
          },
          "execution_count": 7
        }
      ]
    },
    {
      "cell_type": "markdown",
      "metadata": {
        "id": "onlEaICV3hZG"
      },
      "source": [
        "Insulin and BloodPressure have the most missing values. Decided to drop all patientes with missing values."
      ]
    },
    {
      "cell_type": "code",
      "metadata": {
        "id": "9cWItC9P2mmo"
      },
      "source": [
        "diabetes = diabetes.dropna()"
      ],
      "execution_count": 8,
      "outputs": []
    },
    {
      "cell_type": "code",
      "metadata": {
        "colab": {
          "base_uri": "https://localhost:8080/"
        },
        "id": "QeqJBsH730Jk",
        "outputId": "4963b61a-fd0e-48b4-b221-8546d6b9de2a"
      },
      "source": [
        "# Final number of patientes were greatly reduced.\n",
        "diabetes.shape"
      ],
      "execution_count": 9,
      "outputs": [
        {
          "output_type": "execute_result",
          "data": {
            "text/plain": [
              "(392, 9)"
            ]
          },
          "metadata": {
            "tags": []
          },
          "execution_count": 9
        }
      ]
    },
    {
      "cell_type": "markdown",
      "metadata": {
        "id": "JxnzpsDf31Ac"
      },
      "source": [
        "# Models"
      ]
    },
    {
      "cell_type": "markdown",
      "metadata": {
        "id": "Ly0F3pA94CgV"
      },
      "source": [
        "Checking for class balance"
      ]
    },
    {
      "cell_type": "code",
      "metadata": {
        "colab": {
          "base_uri": "https://localhost:8080/"
        },
        "id": "_fzC5XBQ4Ftx",
        "outputId": "a4dd294b-179e-43f8-ccf8-6031bc6950cb"
      },
      "source": [
        "diabetes['Outcome'].value_counts()"
      ],
      "execution_count": 10,
      "outputs": [
        {
          "output_type": "execute_result",
          "data": {
            "text/plain": [
              "0    262\n",
              "1    130\n",
              "Name: Outcome, dtype: int64"
            ]
          },
          "metadata": {
            "tags": []
          },
          "execution_count": 10
        }
      ]
    },
    {
      "cell_type": "markdown",
      "metadata": {
        "id": "kS-NGTdV4TiV"
      },
      "source": [
        "We note that we have more patients that do not have diabetes than otherwise. In thise sense, **it is important to ensure stratified separation of training and test sets**."
      ]
    },
    {
      "cell_type": "markdown",
      "metadata": {
        "id": "bMdBUSGC4jVl"
      },
      "source": [
        "## Spliting the data"
      ]
    },
    {
      "cell_type": "code",
      "metadata": {
        "id": "QbEa3OwA4gmB"
      },
      "source": [
        "# X attribute matrix\n",
        "X = diabetes.iloc[:,:-1].values.copy()\n",
        "# y Outcome\n",
        "y = diabetes['Outcome'].values.copy()"
      ],
      "execution_count": 11,
      "outputs": []
    },
    {
      "cell_type": "markdown",
      "metadata": {
        "id": "bMFNKC544lCZ"
      },
      "source": [
        "### Scaling data"
      ]
    },
    {
      "cell_type": "code",
      "metadata": {
        "id": "LFQnIvKa5EQC"
      },
      "source": [
        "from sklearn.preprocessing import StandardScaler\n",
        "scaler = StandardScaler()\n",
        "X = scaler.fit_transform(X)"
      ],
      "execution_count": 12,
      "outputs": []
    },
    {
      "cell_type": "markdown",
      "metadata": {
        "id": "XP-3DoeJ5OAb"
      },
      "source": [
        "### Spiting, training and evaluating models"
      ]
    },
    {
      "cell_type": "code",
      "metadata": {
        "id": "fSjWMq305Rwo"
      },
      "source": [
        "from sklearn.model_selection import StratifiedKFold\n",
        "# StratifiedKFold separates the dataset according to desired number of splits\n",
        "# suffle in a stratified way, making sure the same proportion of positive and\n",
        "# negative outcomes are split between training and test."
      ],
      "execution_count": 13,
      "outputs": []
    },
    {
      "cell_type": "code",
      "metadata": {
        "id": "NtlwL4bd5TFy"
      },
      "source": [
        "skf = StratifiedKFold(n_splits=3, random_state=42, shuffle=True)"
      ],
      "execution_count": 14,
      "outputs": []
    },
    {
      "cell_type": "code",
      "metadata": {
        "id": "tdrfHqfH5U75"
      },
      "source": [
        "# Importing the LogisticRegression model from sklearn\n",
        "from sklearn.linear_model import LogisticRegression\n",
        "# naming\n",
        "logit = LogisticRegression()"
      ],
      "execution_count": 15,
      "outputs": []
    },
    {
      "cell_type": "code",
      "metadata": {
        "id": "Zv_G2S6X6Cqp"
      },
      "source": [
        "# Importing metrics to evaluate the model performance\n",
        "from sklearn.metrics import accuracy_score, precision_score, recall_score"
      ],
      "execution_count": 16,
      "outputs": []
    },
    {
      "cell_type": "markdown",
      "metadata": {
        "id": "i8FX7b9t8eBS"
      },
      "source": [
        "## Training the models"
      ]
    },
    {
      "cell_type": "code",
      "metadata": {
        "id": "LuVRLRAy6P8w"
      },
      "source": [
        "# Here I create a set of lists to hold the scores obtained\n",
        "accuracy_train = []\n",
        "accuracy_test = []\n",
        "\n",
        "precision_train = []\n",
        "precision_test = []\n",
        "\n",
        "recall_train = []\n",
        "recall_test = []\n",
        "\n",
        "# Here I iterate throught the 3 splits made by skf, using X matrix and y target\n",
        "# Basically, for every split, selects indexes to be used for training and testing\n",
        "# These are then used for training and I evaluate the performance of the model on\n",
        "# the training and test sets using accuracy, precision and recall metrics.\n",
        "for train_index, test_index in skf.split(X, y):\n",
        "    X_train, X_test = X[train_index], X[test_index]\n",
        "    y_train, y_test = y[train_index], y[test_index]\n",
        "    # fitting model\n",
        "    logit.fit(X_train, y_train)\n",
        "    # Predictions on the training set\n",
        "    y_train_pred = logit.predict(X_train)\n",
        "    # Predictions on the testing set\n",
        "    y_test_pred = logit.predict(X_test)\n",
        "\n",
        "    # In the lines below, I add the values to the set of lists.\n",
        "\n",
        "    accuracy_train.append(accuracy_score(y_train, y_train_pred))\n",
        "    accuracy_test.append(accuracy_score(y_test, y_test_pred))\n",
        "\n",
        "    precision_train.append(precision_score(y_train, y_train_pred))\n",
        "    precision_test.append(precision_score(y_test, y_test_pred))\n",
        "\n",
        "    recall_train.append(recall_score(y_train, y_train_pred))\n",
        "    recall_test.append(recall_score(y_test, y_test_pred))\n",
        "\n",
        "# Here I create a new list to represent the average of values found\n",
        "scores_stratified = ['Average_3models', np.mean(accuracy_train), np.mean(precision_train), np.mean(recall_train),\n",
        "                                        np.mean(accuracy_test), np.mean(precision_test), np.mean(recall_test),]"
      ],
      "execution_count": 17,
      "outputs": []
    },
    {
      "cell_type": "code",
      "metadata": {
        "id": "WuOcXSpn6uoS"
      },
      "source": [
        "models = ['Logit_'+str(i) for i in range(1,4)]"
      ],
      "execution_count": 18,
      "outputs": []
    },
    {
      "cell_type": "code",
      "metadata": {
        "id": "pUOk7y5_6b2y"
      },
      "source": [
        "# Setting everything to be in a good format for creating a dataframe\n",
        "data = np.column_stack((models, accuracy_train, precision_train, recall_train,\n",
        "                                accuracy_test, precision_test, recall_test))"
      ],
      "execution_count": 19,
      "outputs": []
    },
    {
      "cell_type": "code",
      "metadata": {
        "id": "GCIFgONS6Qbd"
      },
      "source": [
        "results = pd.DataFrame(columns=['Model', 'Accuracy_train', 'Precision_train', 'Recall_train',\n",
        "                                         'Accuracy_test', 'Precision_test', 'Recall_test'],\n",
        "                       data=data)\n",
        "results.loc[3] = scores_stratified"
      ],
      "execution_count": 20,
      "outputs": []
    },
    {
      "cell_type": "code",
      "metadata": {
        "colab": {
          "base_uri": "https://localhost:8080/",
          "height": 175
        },
        "id": "aNltDEYS8Xzq",
        "outputId": "ef945ed5-332b-4311-d96a-7fd681f79cbb"
      },
      "source": [
        "results"
      ],
      "execution_count": 21,
      "outputs": [
        {
          "output_type": "execute_result",
          "data": {
            "text/html": [
              "<div>\n",
              "<style scoped>\n",
              "    .dataframe tbody tr th:only-of-type {\n",
              "        vertical-align: middle;\n",
              "    }\n",
              "\n",
              "    .dataframe tbody tr th {\n",
              "        vertical-align: top;\n",
              "    }\n",
              "\n",
              "    .dataframe thead th {\n",
              "        text-align: right;\n",
              "    }\n",
              "</style>\n",
              "<table border=\"1\" class=\"dataframe\">\n",
              "  <thead>\n",
              "    <tr style=\"text-align: right;\">\n",
              "      <th></th>\n",
              "      <th>Model</th>\n",
              "      <th>Accuracy_train</th>\n",
              "      <th>Precision_train</th>\n",
              "      <th>Recall_train</th>\n",
              "      <th>Accuracy_test</th>\n",
              "      <th>Precision_test</th>\n",
              "      <th>Recall_test</th>\n",
              "    </tr>\n",
              "  </thead>\n",
              "  <tbody>\n",
              "    <tr>\n",
              "      <th>0</th>\n",
              "      <td>Logit_1</td>\n",
              "      <td>0.7777777777777778</td>\n",
              "      <td>0.704225352112676</td>\n",
              "      <td>0.5747126436781609</td>\n",
              "      <td>0.8015267175572519</td>\n",
              "      <td>0.84</td>\n",
              "      <td>0.4883720930232558</td>\n",
              "    </tr>\n",
              "    <tr>\n",
              "      <th>1</th>\n",
              "      <td>Logit_2</td>\n",
              "      <td>0.8122605363984674</td>\n",
              "      <td>0.7761194029850746</td>\n",
              "      <td>0.6046511627906976</td>\n",
              "      <td>0.7709923664122137</td>\n",
              "      <td>0.6944444444444444</td>\n",
              "      <td>0.5681818181818182</td>\n",
              "    </tr>\n",
              "    <tr>\n",
              "      <th>2</th>\n",
              "      <td>Logit_3</td>\n",
              "      <td>0.7977099236641222</td>\n",
              "      <td>0.7361111111111112</td>\n",
              "      <td>0.6091954022988506</td>\n",
              "      <td>0.7692307692307693</td>\n",
              "      <td>0.6585365853658537</td>\n",
              "      <td>0.627906976744186</td>\n",
              "    </tr>\n",
              "    <tr>\n",
              "      <th>3</th>\n",
              "      <td>Average_3models</td>\n",
              "      <td>0.795916</td>\n",
              "      <td>0.738819</td>\n",
              "      <td>0.596186</td>\n",
              "      <td>0.780583</td>\n",
              "      <td>0.730994</td>\n",
              "      <td>0.561487</td>\n",
              "    </tr>\n",
              "  </tbody>\n",
              "</table>\n",
              "</div>"
            ],
            "text/plain": [
              "             Model      Accuracy_train  ...      Precision_test         Recall_test\n",
              "0          Logit_1  0.7777777777777778  ...                0.84  0.4883720930232558\n",
              "1          Logit_2  0.8122605363984674  ...  0.6944444444444444  0.5681818181818182\n",
              "2          Logit_3  0.7977099236641222  ...  0.6585365853658537   0.627906976744186\n",
              "3  Average_3models            0.795916  ...            0.730994            0.561487\n",
              "\n",
              "[4 rows x 7 columns]"
            ]
          },
          "metadata": {
            "tags": []
          },
          "execution_count": 21
        }
      ]
    }
  ]
}
{
 "cells": [
  {
   "cell_type": "markdown",
   "metadata": {},
   "source": [
    "# Natural language processing with TensorFlow\n",
    "\n",
    "This is a tutorial provided in [TensorFlow](https://www.youtube.com/watch?v=fNxaJsNG3-s&list=PLQY2H8rRoyvzDbLUZkbudP-MFQZwNmU4S) youtube channel."
   ]
  },
  {
   "cell_type": "markdown",
   "metadata": {},
   "source": [
    "# Brief summary\n",
    "\n",
    "<blockquote>\n",
    "Natural Language Processing or NLP is a field of Artificial Intelligence that gives the machines the ability to read, understand and derive meaning from human languages.\n",
    "</blockquote>\n",
    "\n",
    "The first thing we must have in mind the differences of **human** and **machine language**... <br>\n",
    "\n",
    " While we are great at interpreting tone, facial and body expression, irony and a lot of nuances in speech and text... well, machines are not (or at least not in the same way as we do).<br>\n",
    "  So the first step would be to convert data from human language to machine language. While there are many ways to do it, one that is quite simple and used in the tutorial from [TensorFlow](https://www.youtube.com/watch?v=fNxaJsNG3-s&list=PLQY2H8rRoyvzDbLUZkbudP-MFQZwNmU4S) is Tokenization. <br>\n",
    "  Briefly, Tokenization aims at chopping large contents of text into small chunks. Then we can assign numbers or \"keys\" for each Token, in every line of text that we are working on. This strategy creates something like a dictionary and we can use this dictionary to transform every sentence into a set of keys. <br>\n",
    "  Then we end up with a structure that grealy resemble matrices... and as everybody knows, the computer works quite well with numbers. In fact, in Python we can use numpy or other packages to speed up the process.<br>\n",
    "  After this fragmentation is done, we can then feed these matrices to our model and train it. In the case of this small project, we are working in a Supervised Manner, meaning that we tell the algoritghm which sentences are \"Sarcastic\" and which are \"Non-Sarcastic\". Then, our model does its magic, by learning the \"weight\" of tokens and how these tokens impact the label of each sentence..."
   ]
  },
  {
   "cell_type": "markdown",
   "metadata": {},
   "source": [
    "#### But... do not take it from me. Here are some articles from people that actually know about it!\n",
    "\n",
    "1. [Your Guid to Natural Language Processing](https://towardsdatascience.com/your-guide-to-natural-language-processing-nlp-48ea2511f6e1);\n",
    "2. [An Introduction to Natural Language Processing (NLP)](https://medium.com/@ODSC/an-introduction-to-natural-language-processing-nlp-8e476d9f5f59);\n",
    "3. [Data Science por Brasileiros — Introdução a (NLP) - Article in Portuguese](https://medium.com/@adilmarcoelhodantas/data-science-pt-nlp-70c696b59f00);\n",
    "4. [Natural Language Processing (NLP) Zero to Hero](https://www.youtube.com/watch?v=fNxaJsNG3-s&list=PLQY2H8rRoyvzDbLUZkbudP-MFQZwNmU4S).\n"
   ]
  },
  {
   "cell_type": "markdown",
   "metadata": {},
   "source": [
    "# After some reading...\n",
    "Lets work it out!"
   ]
  },
  {
   "cell_type": "markdown",
   "metadata": {},
   "source": [
    "## Importing Stuff"
   ]
  },
  {
   "cell_type": "code",
   "execution_count": 1,
   "metadata": {
    "slideshow": {
     "slide_type": "skip"
    }
   },
   "outputs": [],
   "source": [
    "import json # Necessary for importing our dataset later\n",
    "import tensorflow as tf \n",
    "\n",
    "# Necessary modules for fragmenting and processing our data\n",
    "from tensorflow.keras.preprocessing.text import Tokenizer\n",
    "from tensorflow.keras.preprocessing.sequence import pad_sequences"
   ]
  },
  {
   "cell_type": "markdown",
   "metadata": {
    "slideshow": {
     "slide_type": "skip"
    }
   },
   "source": [
    "### Parameter for configuring our model"
   ]
  },
  {
   "cell_type": "code",
   "execution_count": 2,
   "metadata": {
    "slideshow": {
     "slide_type": "skip"
    }
   },
   "outputs": [],
   "source": [
    "vocab_size = 10000 # Max vocabulary size. Not all words are necessary to train our model.\n",
    "embedding_dim = 16 # Number of dimensions of our model\n",
    "max_length = 100 # Max number of tokens in a sentence. Not all words in a sentence are necessary!\n",
    "trunc_type='post' \n",
    "padding_type='post' \n",
    "oov_tok = \"<OOV>\" # If our model finds anything unknown...\n",
    "training_size = 20000 # Number of sentences that we will use for training our model."
   ]
  },
  {
   "cell_type": "markdown",
   "metadata": {
    "slideshow": {
     "slide_type": "subslide"
    }
   },
   "source": [
    "### Dataset to train our model\n",
    "\n",
    "Our [Dataset](https://www.kaggle.com/rmisra/news-headlines-dataset-for-sarcasm-detection) consists of around **~26 thousand** headlines classified in \"Sarcastic (1)\" or \"Non-Sarcastic (0)\"\n",
    "\n",
    "![text](dataset.png) "
   ]
  },
  {
   "cell_type": "markdown",
   "metadata": {},
   "source": [
    "Downloading the data"
   ]
  },
  {
   "cell_type": "code",
   "execution_count": 3,
   "metadata": {
    "slideshow": {
     "slide_type": "skip"
    }
   },
   "outputs": [
    {
     "name": "stdout",
     "output_type": "stream",
     "text": [
      "--2020-11-02 17:19:50--  https://storage.googleapis.com/laurencemoroney-blog.appspot.com/sarcasm.json\n",
      "Resolving storage.googleapis.com (storage.googleapis.com)... 2800:3f0:4001:809::2010, 2800:3f0:4001:81b::2010, 2800:3f0:4001:819::2010, ...\n",
      "Connecting to storage.googleapis.com (storage.googleapis.com)|2800:3f0:4001:809::2010|:443... connected.\n",
      "HTTP request sent, awaiting response... 200 OK\n",
      "Length: 5643545 (5,4M) [application/json]\n",
      "Saving to: ‘/tmp/sarcasm.json’\n",
      "\n",
      "/tmp/sarcasm.json   100%[===================>]   5,38M  11,1MB/s    in 0,5s    \n",
      "\n",
      "2020-11-02 17:19:50 (11,1 MB/s) - ‘/tmp/sarcasm.json’ saved [5643545/5643545]\n",
      "\n"
     ]
    }
   ],
   "source": [
    "!wget --no-check-certificate \\\n",
    "    https://storage.googleapis.com/laurencemoroney-blog.appspot.com/sarcasm.json \\\n",
    "    -O /tmp/sarcasm.json"
   ]
  },
  {
   "cell_type": "markdown",
   "metadata": {},
   "source": [
    "Writing headlines to `sentences` and labels to `labels` lists"
   ]
  },
  {
   "cell_type": "code",
   "execution_count": 4,
   "metadata": {
    "slideshow": {
     "slide_type": "skip"
    }
   },
   "outputs": [],
   "source": [
    "with open(\"/tmp/sarcasm.json\", 'r') as f:\n",
    "    datastore = json.load(f)\n",
    "\n",
    "sentences = []\n",
    "labels = []\n",
    "\n",
    "for item in datastore:\n",
    "    sentences.append(item['headline'])\n",
    "    labels.append(item['is_sarcastic'])"
   ]
  },
  {
   "cell_type": "markdown",
   "metadata": {
    "slideshow": {
     "slide_type": "subslide"
    }
   },
   "source": [
    "Splitting our data"
   ]
  },
  {
   "cell_type": "code",
   "execution_count": 5,
   "metadata": {
    "slideshow": {
     "slide_type": "fragment"
    }
   },
   "outputs": [
    {
     "name": "stdout",
     "output_type": "stream",
     "text": [
      "The total number of senteces in our dataset is 26709\n",
      "The ammount used to train our model was 20000\n",
      "Thus, we have 74.88% for training and 25.12% for evaluating\n"
     ]
    }
   ],
   "source": [
    "training_sentences = sentences[0:training_size]\n",
    "testing_sentences = sentences[training_size:]\n",
    "training_labels = labels[0:training_size]\n",
    "testing_labels = labels[training_size:]\n",
    "print(f\"The total number of senteces in our dataset is {len(sentences)}\")\n",
    "print(f\"The ammount used to train our model was {training_size}\")\n",
    "print(f\"Thus, we have {round((training_size/len(sentences) * 100), 2)}% for training and {round((100 - 74.88), 2)}% for evaluating\")"
   ]
  },
  {
   "cell_type": "markdown",
   "metadata": {
    "slideshow": {
     "slide_type": "subslide"
    }
   },
   "source": [
    "### Tokenization and padding"
   ]
  },
  {
   "cell_type": "code",
   "execution_count": 6,
   "metadata": {
    "slideshow": {
     "slide_type": "fragment"
    }
   },
   "outputs": [],
   "source": [
    "tokenizer = Tokenizer(num_words=vocab_size, oov_token=oov_tok)\n",
    "tokenizer.fit_on_texts(training_sentences)\n",
    "\n",
    "word_index = tokenizer.word_index\n",
    "\n",
    "training_sequences = tokenizer.texts_to_sequences(training_sentences)\n",
    "training_padded = pad_sequences(training_sequences, maxlen=max_length, padding=padding_type, truncating=trunc_type)\n",
    "\n",
    "testing_sequences = tokenizer.texts_to_sequences(testing_sentences)\n",
    "testing_padded = pad_sequences(testing_sequences, maxlen=max_length, padding=padding_type, truncating=trunc_type)"
   ]
  },
  {
   "cell_type": "markdown",
   "metadata": {},
   "source": [
    "Transforming the data into arrays"
   ]
  },
  {
   "cell_type": "code",
   "execution_count": 7,
   "metadata": {
    "slideshow": {
     "slide_type": "subslide"
    }
   },
   "outputs": [],
   "source": [
    "import numpy as np\n",
    "training_padded = np.array(training_padded)\n",
    "training_labels = np.array(training_labels)\n",
    "testing_padded = np.array(testing_padded)\n",
    "testing_labels = np.array(testing_labels)"
   ]
  },
  {
   "cell_type": "markdown",
   "metadata": {
    "slideshow": {
     "slide_type": "subslide"
    }
   },
   "source": [
    "### Writing our model"
   ]
  },
  {
   "cell_type": "code",
   "execution_count": 8,
   "metadata": {
    "slideshow": {
     "slide_type": "fragment"
    }
   },
   "outputs": [],
   "source": [
    "model = tf.keras.Sequential([\n",
    "    tf.keras.layers.Embedding(vocab_size, embedding_dim, input_length=max_length),\n",
    "    tf.keras.layers.GlobalAveragePooling1D(),\n",
    "    tf.keras.layers.Dense(24, activation='relu'),\n",
    "    tf.keras.layers.Dense(1, activation='sigmoid')\n",
    "])\n",
    "\n",
    "model.compile(loss='binary_crossentropy',optimizer='adam',metrics=['accuracy'])"
   ]
  },
  {
   "cell_type": "code",
   "execution_count": 9,
   "metadata": {
    "slideshow": {
     "slide_type": "subslide"
    }
   },
   "outputs": [
    {
     "name": "stdout",
     "output_type": "stream",
     "text": [
      "Model: \"sequential\"\n",
      "_________________________________________________________________\n",
      "Layer (type)                 Output Shape              Param #   \n",
      "=================================================================\n",
      "embedding (Embedding)        (None, 100, 16)           160000    \n",
      "_________________________________________________________________\n",
      "global_average_pooling1d (Gl (None, 16)                0         \n",
      "_________________________________________________________________\n",
      "dense (Dense)                (None, 24)                408       \n",
      "_________________________________________________________________\n",
      "dense_1 (Dense)              (None, 1)                 25        \n",
      "=================================================================\n",
      "Total params: 160,433\n",
      "Trainable params: 160,433\n",
      "Non-trainable params: 0\n",
      "_________________________________________________________________\n"
     ]
    }
   ],
   "source": [
    "model.summary()"
   ]
  },
  {
   "cell_type": "markdown",
   "metadata": {},
   "source": [
    "### Running it!"
   ]
  },
  {
   "cell_type": "code",
   "execution_count": 10,
   "metadata": {
    "slideshow": {
     "slide_type": "subslide"
    }
   },
   "outputs": [
    {
     "name": "stdout",
     "output_type": "stream",
     "text": [
      "Epoch 1/30\n",
      "625/625 - 2s - loss: 0.6707 - accuracy: 0.5745 - val_loss: 0.6064 - val_accuracy: 0.6971\n",
      "Epoch 2/30\n",
      "625/625 - 2s - loss: 0.4630 - accuracy: 0.8206 - val_loss: 0.4023 - val_accuracy: 0.8347\n",
      "Epoch 3/30\n",
      "625/625 - 2s - loss: 0.3295 - accuracy: 0.8725 - val_loss: 0.3606 - val_accuracy: 0.8489\n",
      "Epoch 4/30\n",
      "625/625 - 2s - loss: 0.2764 - accuracy: 0.8925 - val_loss: 0.3465 - val_accuracy: 0.8548\n",
      "Epoch 5/30\n",
      "625/625 - 2s - loss: 0.2404 - accuracy: 0.9083 - val_loss: 0.3464 - val_accuracy: 0.8511\n",
      "Epoch 6/30\n",
      "625/625 - 2s - loss: 0.2108 - accuracy: 0.9202 - val_loss: 0.3463 - val_accuracy: 0.8526\n",
      "Epoch 7/30\n",
      "625/625 - 2s - loss: 0.1884 - accuracy: 0.9311 - val_loss: 0.3575 - val_accuracy: 0.8542\n",
      "Epoch 8/30\n",
      "625/625 - 2s - loss: 0.1690 - accuracy: 0.9373 - val_loss: 0.3657 - val_accuracy: 0.8514\n",
      "Epoch 9/30\n",
      "625/625 - 2s - loss: 0.1532 - accuracy: 0.9438 - val_loss: 0.3922 - val_accuracy: 0.8444\n",
      "Epoch 10/30\n",
      "625/625 - 2s - loss: 0.1394 - accuracy: 0.9508 - val_loss: 0.3939 - val_accuracy: 0.8523\n",
      "Epoch 11/30\n",
      "625/625 - 2s - loss: 0.1279 - accuracy: 0.9554 - val_loss: 0.4103 - val_accuracy: 0.8520\n",
      "Epoch 12/30\n",
      "625/625 - 2s - loss: 0.1175 - accuracy: 0.9596 - val_loss: 0.4434 - val_accuracy: 0.8414\n",
      "Epoch 13/30\n",
      "625/625 - 2s - loss: 0.1075 - accuracy: 0.9628 - val_loss: 0.4736 - val_accuracy: 0.8356\n",
      "Epoch 14/30\n",
      "625/625 - 2s - loss: 0.1002 - accuracy: 0.9665 - val_loss: 0.5060 - val_accuracy: 0.8334\n",
      "Epoch 15/30\n",
      "625/625 - 2s - loss: 0.0919 - accuracy: 0.9709 - val_loss: 0.4965 - val_accuracy: 0.8411\n",
      "Epoch 16/30\n",
      "625/625 - 2s - loss: 0.0842 - accuracy: 0.9730 - val_loss: 0.5174 - val_accuracy: 0.8413\n",
      "Epoch 17/30\n",
      "625/625 - 2s - loss: 0.0784 - accuracy: 0.9751 - val_loss: 0.5472 - val_accuracy: 0.8393\n",
      "Epoch 18/30\n",
      "625/625 - 2s - loss: 0.0740 - accuracy: 0.9768 - val_loss: 0.6197 - val_accuracy: 0.8295\n",
      "Epoch 19/30\n",
      "625/625 - 2s - loss: 0.0695 - accuracy: 0.9779 - val_loss: 0.6247 - val_accuracy: 0.8329\n",
      "Epoch 20/30\n",
      "625/625 - 2s - loss: 0.0628 - accuracy: 0.9814 - val_loss: 0.6260 - val_accuracy: 0.8322\n",
      "Epoch 21/30\n",
      "625/625 - 2s - loss: 0.0572 - accuracy: 0.9825 - val_loss: 0.6540 - val_accuracy: 0.8308\n",
      "Epoch 22/30\n",
      "625/625 - 2s - loss: 0.0540 - accuracy: 0.9836 - val_loss: 0.6926 - val_accuracy: 0.8264\n",
      "Epoch 23/30\n",
      "625/625 - 2s - loss: 0.0494 - accuracy: 0.9854 - val_loss: 0.7302 - val_accuracy: 0.8247\n",
      "Epoch 24/30\n",
      "625/625 - 2s - loss: 0.0457 - accuracy: 0.9867 - val_loss: 0.7530 - val_accuracy: 0.8252\n",
      "Epoch 25/30\n",
      "625/625 - 2s - loss: 0.0438 - accuracy: 0.9872 - val_loss: 0.8350 - val_accuracy: 0.8205\n",
      "Epoch 26/30\n",
      "625/625 - 2s - loss: 0.0397 - accuracy: 0.9893 - val_loss: 0.8369 - val_accuracy: 0.8201\n",
      "Epoch 27/30\n",
      "625/625 - 2s - loss: 0.0383 - accuracy: 0.9890 - val_loss: 0.8555 - val_accuracy: 0.8207\n",
      "Epoch 28/30\n",
      "625/625 - 2s - loss: 0.0367 - accuracy: 0.9894 - val_loss: 0.8795 - val_accuracy: 0.8199\n",
      "Epoch 29/30\n",
      "625/625 - 2s - loss: 0.0320 - accuracy: 0.9919 - val_loss: 0.9267 - val_accuracy: 0.8193\n",
      "Epoch 30/30\n",
      "625/625 - 2s - loss: 0.0299 - accuracy: 0.9915 - val_loss: 0.9440 - val_accuracy: 0.8189\n"
     ]
    }
   ],
   "source": [
    "num_epochs = 30\n",
    "history = model.fit(training_padded, training_labels, epochs=num_epochs, validation_data=(testing_padded, testing_labels), verbose=2)"
   ]
  },
  {
   "cell_type": "code",
   "execution_count": 11,
   "metadata": {
    "slideshow": {
     "slide_type": "skip"
    }
   },
   "outputs": [],
   "source": [
    "import matplotlib.pyplot as plt\n",
    "import seaborn as sns\n",
    "plt.style.use('default')\n",
    "\n",
    "\n",
    "\n",
    "def plot_graphs(history, string):\n",
    "    plt.plot(history.history[string])\n",
    "    plt.plot(history.history['val_'+string])\n",
    "    plt.xlabel(\"Epochs\", fontsize=16)\n",
    "    plt.ylabel(string, fontsize=16)\n",
    "    plt.legend([string, 'val_'+string], fontsize=14)\n",
    "    plt.xticks(fontsize=12)\n",
    "    plt.yticks(fontsize=12)\n",
    "    plt.show()"
   ]
  },
  {
   "cell_type": "code",
   "execution_count": 12,
   "metadata": {
    "slideshow": {
     "slide_type": "slide"
    }
   },
   "outputs": [
    {
     "data": {
      "image/png": "[encoded data removed]",
      "text/plain": [
       "<Figure size 640x480 with 1 Axes>"
      ]
     },
     "metadata": {},
     "output_type": "display_data"
    }
   ],
   "source": [
    "plot_graphs(history, \"accuracy\")"
   ]
  },
  {
   "cell_type": "code",
   "execution_count": 13,
   "metadata": {
    "slideshow": {
     "slide_type": "skip"
    }
   },
   "outputs": [
    {
     "data": {
      "image/png": "[encoded data removed]",
      "text/plain": [
       "<Figure size 640x480 with 1 Axes>"
      ]
     },
     "metadata": {},
     "output_type": "display_data"
    }
   ],
   "source": [
    "plot_graphs(history, \"loss\")"
   ]
  },
  {
   "cell_type": "code",
   "execution_count": 14,
   "metadata": {
    "slideshow": {
     "slide_type": "skip"
    }
   },
   "outputs": [
    {
     "name": "stdout",
     "output_type": "stream",
     "text": [
      "former <OOV> store clerk sues over secret 'black <OOV> for minority shoppers ? ? ? ? ? ? ? ? ? ? ? ? ? ? ? ? ? ? ? ? ? ? ? ? ? ? ? ? ? ? ? ? ? ? ? ? ? ? ? ? ? ? ? ? ? ? ? ? ? ? ? ? ? ? ? ? ? ? ? ? ? ? ? ? ? ? ? ? ? ? ? ? ? ? ? ? ? ? ? ? ? ? ? ? ? ? ? ?\n",
      "mom starting to fear son's web series closest thing she will have to grandchild\n",
      "1\n"
     ]
    }
   ],
   "source": [
    "reverse_word_index = dict([(value, key) for (key, value) in word_index.items()])\n",
    "\n",
    "def decode_sentence(text):\n",
    "    return ' '.join([reverse_word_index.get(i, '?') for i in text])\n",
    "\n",
    "print(decode_sentence(training_padded[0]))\n",
    "print(training_sentences[2])\n",
    "print(labels[2])"
   ]
  },
  {
   "cell_type": "code",
   "execution_count": 15,
   "metadata": {
    "slideshow": {
     "slide_type": "skip"
    }
   },
   "outputs": [
    {
     "name": "stdout",
     "output_type": "stream",
     "text": [
      "(10000, 16)\n"
     ]
    }
   ],
   "source": [
    "e = model.layers[0]\n",
    "weights = e.get_weights()[0]\n",
    "print(weights.shape) # shape: (vocab_size, embedding_dim)\n"
   ]
  },
  {
   "cell_type": "markdown",
   "metadata": {},
   "source": [
    "Writing the data to files"
   ]
  },
  {
   "cell_type": "code",
   "execution_count": 16,
   "metadata": {
    "slideshow": {
     "slide_type": "skip"
    }
   },
   "outputs": [],
   "source": [
    "import io\n",
    "\n",
    "out_v = io.open('vecs.tsv', 'w', encoding='utf-8')\n",
    "out_m = io.open('meta.tsv', 'w', encoding='utf-8')\n",
    "for word_num in range(1, vocab_size):\n",
    "    word = reverse_word_index[word_num]\n",
    "    embeddings = weights[word_num]\n",
    "    out_m.write(word + \"\\n\")\n",
    "    out_v.write('\\t'.join([str(x) for x in embeddings]) + \"\\n\")\n",
    "out_v.close()\n",
    "out_m.close()"
   ]
  },
  {
   "cell_type": "markdown",
   "metadata": {},
   "source": [
    "## Now that our model is smart (!?)... Lets test it!"
   ]
  },
  {
   "cell_type": "code",
   "execution_count": 17,
   "metadata": {
    "slideshow": {
     "slide_type": "skip"
    }
   },
   "outputs": [],
   "source": [
    "def predictor(text):\n",
    "    token = tokenizer.texts_to_sequences(text)\n",
    "    padded = pad_sequences(token, maxlen=max_length, padding=padding_type, truncating=trunc_type)\n",
    "    print(model.predict(padded))"
   ]
  },
  {
   "cell_type": "markdown",
   "metadata": {},
   "source": [
    "The two first sentences are news headlines extracted from the CNN website. <br>\n",
    "The third one is actually one that I made up"
   ]
  },
  {
   "cell_type": "code",
   "execution_count": 18,
   "metadata": {
    "slideshow": {
     "slide_type": "subslide"
    }
   },
   "outputs": [
    {
     "name": "stdout",
     "output_type": "stream",
     "text": [
      "[[2.6951774e-03]\n",
      " [7.0647849e-10]\n",
      " [9.9815375e-01]]\n"
     ]
    }
   ],
   "source": [
    "text = ['Determined voters endure long lines to cast early ballots in historic election', \n",
    "        'Covid-19 makes it harder to save dogs and cats across borders, but rescue organizations are finding a way',\n",
    "        'Old lady, tired of walking, decides to fly instead']\n",
    "\n",
    "predictor(text)"
   ]
  },
  {
   "cell_type": "markdown",
   "metadata": {},
   "source": [
    "As we have discussed earlier, Sarcastic was classified as 1 and Non-Sarcastic as 0.<br>\n",
    "In this sense, our model shows us:\n",
    "1. That the first phrase is most likely Non-Sarcastic;\n",
    "2. The second one is actually \"really\" Non-Sarcastic (4.63e-8);\n",
    "3. The third one seems so much Sarcastic! (9.99e-01)"
   ]
  },
  {
   "cell_type": "code",
   "execution_count": null,
   "metadata": {},
   "outputs": [],
   "source": []
  }
 ],
 "metadata": {
  "kernelspec": {
   "display_name": "Python 3",
   "language": "python",
   "name": "python3"
  },
  "language_info": {
   "codemirror_mode": {
    "name": "ipython",
    "version": 3
   },
   "file_extension": ".py",
   "mimetype": "text/x-python",
   "name": "python",
   "nbconvert_exporter": "python",
   "pygments_lexer": "ipython3",
   "version": "3.8.6"
  }
 },
 "nbformat": 4,
 "nbformat_minor": 4
}
